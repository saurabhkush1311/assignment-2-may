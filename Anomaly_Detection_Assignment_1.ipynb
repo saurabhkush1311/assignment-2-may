{
 "cells": [
  {
   "cell_type": "markdown",
   "id": "d30f3417-a8ee-47ab-97e1-7d89ef14b3fa",
   "metadata": {},
   "source": [
    "# ANSWER 1\n",
    "Anomaly detection is a technique used in data analysis to identify patterns or instances that deviate significantly from the norm or expected behavior within a dataset. These deviating patterns or instances are called anomalies or outliers. The purpose of anomaly detection is to highlight and flag unusual occurrences, which might indicate potential errors, fraud, faults, or other exceptional events that require further investigation. Anomaly detection is widely used in various fields, including cybersecurity, finance, manufacturing, healthcare, and more, to improve the detection of abnormal activities or data points."
   ]
  },
  {
   "cell_type": "markdown",
   "id": "713fc46e-4bf2-4808-9ea3-f4c72ff53d58",
   "metadata": {},
   "source": [
    "# ANSWER 2\n",
    "Anomaly detection poses several challenges, some of which include:\n",
    "\n",
    "Lack of labeled data: In many real-world scenarios, anomalies are rare and difficult to obtain sufficient labeled training data for supervised learning approaches.\n",
    "\n",
    "Imbalanced datasets: Anomaly detection datasets often have a significant class imbalance, with normal instances significantly outnumbering anomalies. This imbalance can impact the performance of traditional classification algorithms.\n",
    "\n",
    "High-dimensional data: Many real-world datasets are high-dimensional, which makes it challenging to identify anomalies effectively and efficiently.\n",
    "\n",
    "Concept drift: In some applications, the characteristics of normal and anomalous data might change over time, leading to concept drift. This requires adaptive anomaly detection methods.\n",
    "\n",
    "Novelty detection: Anomaly detection methods should be able to detect previously unseen anomalies that do not resemble any known patterns in the training data.\n",
    "\n",
    "Interpretability: In some domains, it is crucial to understand why a particular data point is flagged as an anomaly to take appropriate action."
   ]
  },
  {
   "cell_type": "markdown",
   "id": "a1e47299-ad30-49b3-b412-7e41cbcda4b7",
   "metadata": {},
   "source": [
    "# ANSWER 3\n",
    "The primary difference between unsupervised and supervised anomaly detection lies in the availability of labeled data during training:\n",
    "\n",
    "Unsupervised Anomaly Detection: In unsupervised anomaly detection, the algorithm is trained on a dataset that contains only normal instances, without any explicit labels for anomalies. The goal is to learn the underlying distribution of the normal data and identify deviations from it as anomalies. Since there are no labeled anomalies during training, unsupervised methods are more suitable for scenarios where labeled anomalies are scarce or hard to obtain.\n",
    "\n",
    "Supervised Anomaly Detection: In supervised anomaly detection, the algorithm is trained on a dataset that includes both normal and anomalous instances, with explicit labels indicating which instances are anomalies. The algorithm learns to distinguish between normal and abnormal patterns during training. Supervised methods can be effective when labeled anomaly data is available, but they may face challenges when dealing with novel or unseen anomalies during deployment."
   ]
  },
  {
   "cell_type": "markdown",
   "id": "03a8d1ae-d5f0-40e7-a5a4-fe3ffcf9c066",
   "metadata": {},
   "source": [
    "# ANSWER 4\n",
    "Anomaly detection algorithms can be broadly categorized into the following groups:\n",
    "\n",
    "Statistical Methods: These methods assume that normal data points follow a specific statistical distribution, such as Gaussian distribution, and identify anomalies as data points that significantly deviate from the expected distribution.\n",
    "\n",
    "Machine Learning Methods: These algorithms use machine learning techniques to model the normal behavior of the data and flag instances that fall far from the learned model as anomalies. This category includes both supervised and unsupervised approaches.\n",
    "\n",
    "Distance-Based Methods: These methods measure the distance or dissimilarity between data points and identify instances that are farthest from the majority of the data as anomalies.\n",
    "\n",
    "Density-Based Methods: These algorithms estimate the density of the data and identify anomalies as points residing in regions of low data density.\n",
    "\n",
    "Ensemble Methods: Ensemble methods combine multiple anomaly detection algorithms or models to improve overall detection performance."
   ]
  },
  {
   "cell_type": "markdown",
   "id": "0420f207-6508-46bc-b786-768320bab9e4",
   "metadata": {},
   "source": [
    "# ANSWER 5\n",
    "Distance-based anomaly detection methods make the following main assumptions:\n",
    "\n",
    "Normal Data Density: The majority of the data points are assumed to belong to a dense region, representing the normal behavior of the system.\n",
    "\n",
    "Anomaly Separability: Anomalies are assumed to be distinguishable from normal instances, residing in sparser regions of the data space.\n",
    "\n",
    "Distance Metric: A distance metric is defined to measure the dissimilarity between data points.\n",
    "\n",
    "k-Nearest Neighbors: The anomaly score of a data point is determined based on the distances to its k-nearest neighbors. Anomalies are expected to have larger distances to their neighbors."
   ]
  },
  {
   "cell_type": "markdown",
   "id": "c12cb041-d460-4cb8-8aa3-e9e75b9c0d78",
   "metadata": {},
   "source": [
    "# ANSWER 6\n",
    "The LOF (Local Outlier Factor) algorithm is a popular distance-based anomaly detection method. It computes anomaly scores for each data point based on the density of its local neighborhood relative to the densities of its neighbors. Here's a brief overview of how LOF computes anomaly scores:\n",
    "\n",
    "For each data point in the dataset, the k-distance (kth nearest neighbor distance) is calculated. The k-distance of a data point is the distance to its kth nearest neighbor in the dataset.\n",
    "\n",
    "The local reachability density (LRD) of a data point is computed. LRD measures the density of a data point's local neighborhood relative to its k-nearest neighbors.\n",
    "\n",
    "The Local Outlier Factor (LOF) of a data point is then computed by comparing the LRD of the data point with the LRDs of its k-nearest neighbors. LOF quantifies how much a data point's density deviates from that of its neighbors. Higher LOF values indicate that the data point is less dense compared to its neighbors, suggesting it is more likely to be an anomaly.\n",
    "\n",
    "The LOF scores are scaled to have a minimum value of 1, where a score of 1 indicates that the data point's density is similar to its neighbors.\n",
    "\n",
    "Data points with higher LOF scores are considered anomalies as they have significantly lower densities compared to their neighbors."
   ]
  },
  {
   "cell_type": "markdown",
   "id": "80e18f1e-ab83-455d-bdbd-3768527a234f",
   "metadata": {},
   "source": [
    "# ANSWER 7\n",
    "The Isolation Forest algorithm is an ensemble-based anomaly detection method that isolates anomalies by randomly partitioning the data into isolation trees. The key parameters of the Isolation Forest algorithm are as follows:\n",
    "\n",
    "Number of Trees (n_estimators): The number of individual isolation trees to be constructed. More trees can lead to better anomaly detection but may increase computation time.\n",
    "\n",
    "Sample Size (max_samples): The number of data points to be randomly selected to build each isolation tree. Smaller sample sizes lead to shorter paths in trees and can improve the efficiency of the algorithm.\n",
    "\n",
    "Contamination: The proportion of anomalies expected in the dataset. This parameter helps in determining the threshold for anomaly scores.\n",
    "\n",
    "Higher contamination values indicate that more data points are expected to be anomalies."
   ]
  },
  {
   "cell_type": "markdown",
   "id": "df0000dc-337d-43d5-b044-a53db2e89113",
   "metadata": {},
   "source": [
    "# ANSWER 8\n",
    "In the K-nearest neighbors (KNN) algorithm, the anomaly score of a data point is typically calculated based on its distance to its K nearest neighbors. The anomaly score is inversely proportional to the average distance to these neighbors. If a data point has only 2 neighbors within a radius of 0.5 and K=10, then it has fewer neighbors than the specified K value.\n",
    "\n",
    "In such a scenario, the data point's anomaly score would be relatively high because it has fewer neighbors than expected (10 neighbors), indicating that it is not well-supported by the surrounding data points. The anomaly score would be determined based on the distances to the available 2 neighbors, with larger distances leading to higher anomaly scores."
   ]
  },
  {
   "cell_type": "markdown",
   "id": "5b009de7-aa0d-42ce-a9cd-2e75f61b197e",
   "metadata": {},
   "source": [
    "# ANSWER 9\n",
    "In the Isolation Forest algorithm, the average path length in the trees is an important factor in determining the anomaly score for a data point. A data point with a shorter average path length compared to the average path length of the trees is more likely to be an anomaly, as it can be isolated more quickly and requires fewer splits in the trees.\n",
    "\n",
    "Given that the dataset has 3000 data points and 100 trees, the average path length for normal data points (inliers) is typically around 2.0 to 2.5. If a data point has an average path length of 5.0, it is substantially higher than the average path length for inliers.\n",
    "\n",
    "Anomaly Score=2 ^ (−(average path length of the data point/average path length of the trees))\n",
    "\n",
    "Anomaly Score=2^-2\n",
    "\n",
    "So, the anomaly score for the data point would be 0.25, indicating that it is likely an anomaly."
   ]
  },
  {
   "cell_type": "code",
   "execution_count": null,
   "id": "3fd70f3e-ef47-443e-a616-3da5bd1978e3",
   "metadata": {},
   "outputs": [],
   "source": []
  }
 ],
 "metadata": {
  "kernelspec": {
   "display_name": "Python 3 (ipykernel)",
   "language": "python",
   "name": "python3"
  },
  "language_info": {
   "codemirror_mode": {
    "name": "ipython",
    "version": 3
   },
   "file_extension": ".py",
   "mimetype": "text/x-python",
   "name": "python",
   "nbconvert_exporter": "python",
   "pygments_lexer": "ipython3",
   "version": "3.10.8"
  }
 },
 "nbformat": 4,
 "nbformat_minor": 5
}
